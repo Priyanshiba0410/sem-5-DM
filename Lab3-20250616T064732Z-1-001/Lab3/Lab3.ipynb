{
 "cells": [
  {
   "cell_type": "markdown",
   "id": "02b33ee5",
   "metadata": {},
   "source": [
    "<a href='https://www.darshan.ac.in/'> <img src='https://www.darshan.ac.in/Content/media/DU_Logo.svg' width=\"250\" height=\"300\"/></a>\n",
    "<pre>\n",
    "<center><b><h1>Data Mining</b></center>\n",
    "<center><b><h1>Lab - 3</b></center>    \n",
    "<pre>"
   ]
  },
  {
   "cell_type": "markdown",
   "id": "a194dffc",
   "metadata": {},
   "source": [
    "### 1)  First, you need to read the titanic dataset from local disk and display first five records\n",
    "\n"
   ]
  },
  {
   "cell_type": "code",
   "execution_count": 5,
   "id": "913866bd",
   "metadata": {},
   "outputs": [],
   "source": [
    "import pandas as pd\n",
    "import numpy as np"
   ]
  },
  {
   "cell_type": "code",
   "execution_count": 7,
   "id": "01dc01bf",
   "metadata": {},
   "outputs": [],
   "source": [
    "titanic=pd.read_csv('titanic.csv')"
   ]
  },
  {
   "cell_type": "code",
   "execution_count": 9,
   "id": "6b763f3d",
   "metadata": {},
   "outputs": [
    {
     "data": {
      "text/html": [
       "<div>\n",
       "<style scoped>\n",
       "    .dataframe tbody tr th:only-of-type {\n",
       "        vertical-align: middle;\n",
       "    }\n",
       "\n",
       "    .dataframe tbody tr th {\n",
       "        vertical-align: top;\n",
       "    }\n",
       "\n",
       "    .dataframe thead th {\n",
       "        text-align: right;\n",
       "    }\n",
       "</style>\n",
       "<table border=\"1\" class=\"dataframe\">\n",
       "  <thead>\n",
       "    <tr style=\"text-align: right;\">\n",
       "      <th></th>\n",
       "      <th>PassengerId</th>\n",
       "      <th>Survived</th>\n",
       "      <th>Pclass</th>\n",
       "      <th>Name</th>\n",
       "      <th>Sex</th>\n",
       "      <th>Age</th>\n",
       "      <th>SibSp</th>\n",
       "      <th>Parch</th>\n",
       "      <th>Ticket</th>\n",
       "      <th>Fare</th>\n",
       "      <th>Cabin</th>\n",
       "      <th>Embarked</th>\n",
       "    </tr>\n",
       "  </thead>\n",
       "  <tbody>\n",
       "    <tr>\n",
       "      <th>0</th>\n",
       "      <td>1</td>\n",
       "      <td>0</td>\n",
       "      <td>3</td>\n",
       "      <td>Braund, Mr. Owen Harris</td>\n",
       "      <td>male</td>\n",
       "      <td>22.0</td>\n",
       "      <td>1</td>\n",
       "      <td>0</td>\n",
       "      <td>A/5 21171</td>\n",
       "      <td>7.2500</td>\n",
       "      <td>NaN</td>\n",
       "      <td>S</td>\n",
       "    </tr>\n",
       "    <tr>\n",
       "      <th>1</th>\n",
       "      <td>2</td>\n",
       "      <td>1</td>\n",
       "      <td>1</td>\n",
       "      <td>Cumings, Mrs. John Bradley (Florence Briggs Th...</td>\n",
       "      <td>female</td>\n",
       "      <td>38.0</td>\n",
       "      <td>1</td>\n",
       "      <td>0</td>\n",
       "      <td>PC 17599</td>\n",
       "      <td>71.2833</td>\n",
       "      <td>C85</td>\n",
       "      <td>C</td>\n",
       "    </tr>\n",
       "    <tr>\n",
       "      <th>2</th>\n",
       "      <td>3</td>\n",
       "      <td>1</td>\n",
       "      <td>3</td>\n",
       "      <td>Heikkinen, Miss. Laina</td>\n",
       "      <td>female</td>\n",
       "      <td>26.0</td>\n",
       "      <td>0</td>\n",
       "      <td>0</td>\n",
       "      <td>STON/O2. 3101282</td>\n",
       "      <td>7.9250</td>\n",
       "      <td>NaN</td>\n",
       "      <td>S</td>\n",
       "    </tr>\n",
       "    <tr>\n",
       "      <th>3</th>\n",
       "      <td>4</td>\n",
       "      <td>1</td>\n",
       "      <td>1</td>\n",
       "      <td>Futrelle, Mrs. Jacques Heath (Lily May Peel)</td>\n",
       "      <td>female</td>\n",
       "      <td>35.0</td>\n",
       "      <td>1</td>\n",
       "      <td>0</td>\n",
       "      <td>113803</td>\n",
       "      <td>53.1000</td>\n",
       "      <td>C123</td>\n",
       "      <td>S</td>\n",
       "    </tr>\n",
       "    <tr>\n",
       "      <th>4</th>\n",
       "      <td>5</td>\n",
       "      <td>0</td>\n",
       "      <td>3</td>\n",
       "      <td>Allen, Mr. William Henry</td>\n",
       "      <td>male</td>\n",
       "      <td>35.0</td>\n",
       "      <td>0</td>\n",
       "      <td>0</td>\n",
       "      <td>373450</td>\n",
       "      <td>8.0500</td>\n",
       "      <td>NaN</td>\n",
       "      <td>S</td>\n",
       "    </tr>\n",
       "  </tbody>\n",
       "</table>\n",
       "</div>"
      ],
      "text/plain": [
       "   PassengerId  Survived  Pclass  \\\n",
       "0            1         0       3   \n",
       "1            2         1       1   \n",
       "2            3         1       3   \n",
       "3            4         1       1   \n",
       "4            5         0       3   \n",
       "\n",
       "                                                Name     Sex   Age  SibSp  \\\n",
       "0                            Braund, Mr. Owen Harris    male  22.0      1   \n",
       "1  Cumings, Mrs. John Bradley (Florence Briggs Th...  female  38.0      1   \n",
       "2                             Heikkinen, Miss. Laina  female  26.0      0   \n",
       "3       Futrelle, Mrs. Jacques Heath (Lily May Peel)  female  35.0      1   \n",
       "4                           Allen, Mr. William Henry    male  35.0      0   \n",
       "\n",
       "   Parch            Ticket     Fare Cabin Embarked  \n",
       "0      0         A/5 21171   7.2500   NaN        S  \n",
       "1      0          PC 17599  71.2833   C85        C  \n",
       "2      0  STON/O2. 3101282   7.9250   NaN        S  \n",
       "3      0            113803  53.1000  C123        S  \n",
       "4      0            373450   8.0500   NaN        S  "
      ]
     },
     "execution_count": 9,
     "metadata": {},
     "output_type": "execute_result"
    }
   ],
   "source": [
    "titanic.head(5)"
   ]
  },
  {
   "cell_type": "markdown",
   "id": "1b89cd9d",
   "metadata": {},
   "source": [
    "### 2)  Identify Nominal, Ordinal, Binary and Numeric attributes from data sets and display all values.\n",
    "\n"
   ]
  },
  {
   "cell_type": "code",
   "execution_count": 19,
   "id": "5e02a41d",
   "metadata": {},
   "outputs": [
    {
     "name": "stdout",
     "output_type": "stream",
     "text": [
      "nominal ['Name', 'Sex', 'Cabin', 'Embarked', 'Ticket']\n",
      "ordinal ['Pclass']\n",
      "binary ['Sex', 'Servived']\n",
      "numaric ['Age', 'SibSp', 'Fare', 'Parch']\n"
     ]
    }
   ],
   "source": [
    "nominal = ['Name','Sex','Cabin','Embarked','Ticket']\n",
    "ordinal = ['Pclass']\n",
    "binary = ['Sex','Servived']\n",
    "numaric = ['Age','SibSp','Fare','Parch']\n",
    "\n",
    "print(\"nominal:\",nominal)\n",
    "print(\"ordinal:\",ordinal)\n",
    "print(\"binary:\",binary)\n",
    "print(\"numaric:\",numaric)"
   ]
  },
  {
   "cell_type": "markdown",
   "id": "53b3561a",
   "metadata": {},
   "source": [
    "### 3)  Identify symmetric and asymmetric binary attributes from data sets and display all values.\n",
    "\n"
   ]
  },
  {
   "cell_type": "code",
   "execution_count": 25,
   "id": "e7191227",
   "metadata": {},
   "outputs": [
    {
     "name": "stdout",
     "output_type": "stream",
     "text": [
      "Survived values(asymmetric binary):\n",
      "Survived\n",
      "0    549\n",
      "1    342\n",
      "Name: count, dtype: int64\n",
      "----------------------\n",
      "Gender counts(symmetric binary):\n",
      "Sex\n",
      "male      577\n",
      "female    314\n",
      "Name: count, dtype: int64\n"
     ]
    }
   ],
   "source": [
    "print(\"Survived values(asymmetric binary):\")\n",
    "print(titanic['Survived'].value_counts())\n",
    "print(\"----------------------\")\n",
    "print(\"Gender counts(symmetric binary):\")\n",
    "print(titanic['Sex'].value_counts())"
   ]
  },
  {
   "cell_type": "markdown",
   "id": "ebeb40cb",
   "metadata": {},
   "source": [
    "### 4)  For each quantitative attribute, calculate its average, standard deviation, minimum, mode, range and maximum values.\n",
    "\n"
   ]
  },
  {
   "cell_type": "code",
   "execution_count": 31,
   "id": "9c006e5f",
   "metadata": {},
   "outputs": [
    {
     "name": "stdout",
     "output_type": "stream",
     "text": [
      "PassengerId\n",
      "Mean 446.0\n",
      "standard deviation 257.3538420152301\n",
      "minimum 1\n",
      "maximum 891\n",
      "Mode 1\n",
      "Range 890\n",
      "--------------------------------\n",
      "Survived\n",
      "Mean 0.3838383838383838\n",
      "standard deviation 0.4865924542648585\n",
      "minimum 0\n",
      "maximum 1\n",
      "Mode 0\n",
      "Range 1\n",
      "--------------------------------\n",
      "Pclass\n",
      "Mean 2.308641975308642\n",
      "standard deviation 0.8360712409770513\n",
      "minimum 1\n",
      "maximum 3\n",
      "Mode 3\n",
      "Range 2\n",
      "--------------------------------\n",
      "Age\n",
      "Mean 29.69911764705882\n",
      "standard deviation 14.526497332334044\n",
      "minimum 0.42\n",
      "maximum 80.0\n",
      "Mode 24.0\n",
      "Range 79.58\n",
      "--------------------------------\n",
      "SibSp\n",
      "Mean 0.5230078563411896\n",
      "standard deviation 1.1027434322934275\n",
      "minimum 0\n",
      "maximum 8\n",
      "Mode 0\n",
      "Range 8\n",
      "--------------------------------\n",
      "Age\n",
      "Mean 29.69911764705882\n",
      "standard deviation 14.526497332334044\n",
      "minimum 0.42\n",
      "maximum 80.0\n",
      "Mode 24.0\n",
      "Range 79.58\n",
      "--------------------------------\n"
     ]
    }
   ],
   "source": [
    "quantative = ['PassengerId','Survived','Pclass','Age','SibSp','Age']\n",
    "for col in quantative:\n",
    "    print(col)\n",
    "    print(\"Mean\",titanic[col].mean())\n",
    "    print(\"standard deviation\",titanic[col].std())\n",
    "    print(\"minimum\",titanic[col].min())\n",
    "    print(\"maximum\",titanic[col].max())\n",
    "    print(\"Mode\",titanic[col].mode()[0])\n",
    "    print(\"Range\",titanic[col].max()-titanic[col].min())\n",
    "    print(\"--------------------------------\")"
   ]
  },
  {
   "cell_type": "markdown",
   "id": "84d7ee6f",
   "metadata": {},
   "source": [
    "### 6)  For the qualitative attribute (class), count the frequency for each of its distinct values.\n",
    "\n"
   ]
  },
  {
   "cell_type": "code",
   "execution_count": 35,
   "id": "0b102268",
   "metadata": {},
   "outputs": [
    {
     "name": "stdout",
     "output_type": "stream",
     "text": [
      "Passenger class frequancy\n",
      "Pclass\n",
      "3    491\n",
      "1    216\n",
      "2    184\n",
      "Name: count, dtype: int64\n"
     ]
    }
   ],
   "source": [
    "print(\"Passenger class frequancy\")\n",
    "print(titanic['Pclass'].value_counts())"
   ]
  },
  {
   "cell_type": "markdown",
   "id": "79ead346",
   "metadata": {},
   "source": [
    "###  7) It is also possible to display the summary for all the attributes simultaneously in a table using the describe() function. If an attribute is quantitative, it will display its mean, standard deviation and various quantiles (including minimum, median, and maximum) values. If an attribute is qualitative, it will display its number of unique values and the top (most frequent) values."
   ]
  },
  {
   "cell_type": "code",
   "execution_count": 45,
   "id": "d4584e51",
   "metadata": {},
   "outputs": [
    {
     "name": "stdout",
     "output_type": "stream",
     "text": [
      "summary for numaric attributes:\n",
      "       PassengerId    Survived      Pclass         Age       SibSp  \\\n",
      "count   891.000000  891.000000  891.000000  714.000000  891.000000   \n",
      "mean    446.000000    0.383838    2.308642   29.699118    0.523008   \n",
      "std     257.353842    0.486592    0.836071   14.526497    1.102743   \n",
      "min       1.000000    0.000000    1.000000    0.420000    0.000000   \n",
      "25%     223.500000    0.000000    2.000000   20.125000    0.000000   \n",
      "50%     446.000000    0.000000    3.000000   28.000000    0.000000   \n",
      "75%     668.500000    1.000000    3.000000   38.000000    1.000000   \n",
      "max     891.000000    1.000000    3.000000   80.000000    8.000000   \n",
      "\n",
      "            Parch        Fare  \n",
      "count  891.000000  891.000000  \n",
      "mean     0.381594   32.204208  \n",
      "std      0.806057   49.693429  \n",
      "min      0.000000    0.000000  \n",
      "25%      0.000000    7.910400  \n",
      "50%      0.000000   14.454200  \n",
      "75%      0.000000   31.000000  \n",
      "max      6.000000  512.329200  \n",
      "summary for catagorical attribute\n",
      "                           Name   Sex  Ticket    Cabin Embarked\n",
      "count                       891   891     891      204      889\n",
      "unique                      891     2     681      147        3\n",
      "top     Braund, Mr. Owen Harris  male  347082  B96 B98        S\n",
      "freq                          1   577       7        4      644\n",
      "summary for all attribute\n",
      "        PassengerId    Survived      Pclass                     Name   Sex  \\\n",
      "count    891.000000  891.000000  891.000000                      891   891   \n",
      "unique          NaN         NaN         NaN                      891     2   \n",
      "top             NaN         NaN         NaN  Braund, Mr. Owen Harris  male   \n",
      "freq            NaN         NaN         NaN                        1   577   \n",
      "mean     446.000000    0.383838    2.308642                      NaN   NaN   \n",
      "std      257.353842    0.486592    0.836071                      NaN   NaN   \n",
      "min        1.000000    0.000000    1.000000                      NaN   NaN   \n",
      "25%      223.500000    0.000000    2.000000                      NaN   NaN   \n",
      "50%      446.000000    0.000000    3.000000                      NaN   NaN   \n",
      "75%      668.500000    1.000000    3.000000                      NaN   NaN   \n",
      "max      891.000000    1.000000    3.000000                      NaN   NaN   \n",
      "\n",
      "               Age       SibSp       Parch  Ticket        Fare    Cabin  \\\n",
      "count   714.000000  891.000000  891.000000     891  891.000000      204   \n",
      "unique         NaN         NaN         NaN     681         NaN      147   \n",
      "top            NaN         NaN         NaN  347082         NaN  B96 B98   \n",
      "freq           NaN         NaN         NaN       7         NaN        4   \n",
      "mean     29.699118    0.523008    0.381594     NaN   32.204208      NaN   \n",
      "std      14.526497    1.102743    0.806057     NaN   49.693429      NaN   \n",
      "min       0.420000    0.000000    0.000000     NaN    0.000000      NaN   \n",
      "25%      20.125000    0.000000    0.000000     NaN    7.910400      NaN   \n",
      "50%      28.000000    0.000000    0.000000     NaN   14.454200      NaN   \n",
      "75%      38.000000    1.000000    0.000000     NaN   31.000000      NaN   \n",
      "max      80.000000    8.000000    6.000000     NaN  512.329200      NaN   \n",
      "\n",
      "       Embarked  \n",
      "count       889  \n",
      "unique        3  \n",
      "top           S  \n",
      "freq        644  \n",
      "mean        NaN  \n",
      "std         NaN  \n",
      "min         NaN  \n",
      "25%         NaN  \n",
      "50%         NaN  \n",
      "75%         NaN  \n",
      "max         NaN  \n"
     ]
    }
   ],
   "source": [
    "print(\"summary for numaric attributes:\")\n",
    "print(titanic.describe())\n",
    "\n",
    "print(\"summary for catagorical attribute\")\n",
    "print(titanic.describe(include=['object']))\n",
    "\n",
    "print(\"summary for all attribute\")\n",
    "print(titanic.describe(include='all'))"
   ]
  },
  {
   "cell_type": "markdown",
   "id": "e582a439",
   "metadata": {},
   "source": [
    "### 8)  For multivariate statistics, you can compute the covariance and correlation between pairs of attributes.\n",
    "\n"
   ]
  },
  {
   "cell_type": "code",
   "execution_count": 56,
   "id": "8a362bbe",
   "metadata": {},
   "outputs": [
    {
     "name": "stdout",
     "output_type": "stream",
     "text": [
      "covariance  matrix:\n",
      "              PassengerId  Survived     Pclass         Age      SibSp  \\\n",
      "PassengerId  66231.000000 -0.626966  -7.561798  138.696504 -16.325843   \n",
      "Survived        -0.626966  0.236772  -0.137703   -0.551296  -0.018954   \n",
      "Pclass          -7.561798 -0.137703   0.699015   -4.496004   0.076599   \n",
      "Age            138.696504 -0.551296  -4.496004  211.019125  -4.163334   \n",
      "SibSp          -16.325843 -0.018954   0.076599   -4.163334   1.216043   \n",
      "Parch           -0.342697  0.032017   0.012429   -2.344191   0.368739   \n",
      "Fare           161.883369  6.221787 -22.830196   73.849030   8.748734   \n",
      "\n",
      "                Parch         Fare  \n",
      "PassengerId -0.342697   161.883369  \n",
      "Survived     0.032017     6.221787  \n",
      "Pclass       0.012429   -22.830196  \n",
      "Age         -2.344191    73.849030  \n",
      "SibSp        0.368739     8.748734  \n",
      "Parch        0.649728     8.661052  \n",
      "Fare         8.661052  2469.436846  \n"
     ]
    }
   ],
   "source": [
    "print(\"covariance  matrix:\")\n",
    "print(titanic.cov(numeric_only=True))"
   ]
  },
  {
   "cell_type": "code",
   "execution_count": 60,
   "id": "aae01e5e",
   "metadata": {},
   "outputs": [
    {
     "name": "stdout",
     "output_type": "stream",
     "text": [
      "correlation  matrix:\n",
      "             PassengerId  Survived    Pclass       Age     SibSp     Parch  \\\n",
      "PassengerId     1.000000 -0.005007 -0.035144  0.036847 -0.057527 -0.001652   \n",
      "Survived       -0.005007  1.000000 -0.338481 -0.077221 -0.035322  0.081629   \n",
      "Pclass         -0.035144 -0.338481  1.000000 -0.369226  0.083081  0.018443   \n",
      "Age             0.036847 -0.077221 -0.369226  1.000000 -0.308247 -0.189119   \n",
      "SibSp          -0.057527 -0.035322  0.083081 -0.308247  1.000000  0.414838   \n",
      "Parch          -0.001652  0.081629  0.018443 -0.189119  0.414838  1.000000   \n",
      "Fare            0.012658  0.257307 -0.549500  0.096067  0.159651  0.216225   \n",
      "\n",
      "                 Fare  \n",
      "PassengerId  0.012658  \n",
      "Survived     0.257307  \n",
      "Pclass      -0.549500  \n",
      "Age          0.096067  \n",
      "SibSp        0.159651  \n",
      "Parch        0.216225  \n",
      "Fare         1.000000  \n"
     ]
    }
   ],
   "source": [
    "#correlation matrix range -1 to 1\n",
    "print(\"correlation  matrix:\")\n",
    "print(titanic.corr(numeric_only=True))"
   ]
  },
  {
   "cell_type": "markdown",
   "id": "3c211852",
   "metadata": {},
   "source": [
    "### 9) Display the histogram for Age attribute by discretizing it into 8 separate bins and counting the frequency for each bin."
   ]
  },
  {
   "cell_type": "code",
   "execution_count": 15,
   "id": "cfd54790",
   "metadata": {},
   "outputs": [],
   "source": [
    "import matplotlib.pyplot as plt"
   ]
  },
  {
   "cell_type": "code",
   "execution_count": 17,
   "id": "1eedc7ae",
   "metadata": {},
   "outputs": [
    {
     "data": {
      "image/png": "[encoded data removed]",
      "text/plain": [
       "<Figure size 640x480 with 1 Axes>"
      ]
     },
     "metadata": {},
     "output_type": "display_data"
    }
   ],
   "source": [
    "titanic['Age'].dropna().hist(bins=8,edgecolor='black')\n",
    "plt.title('Histogram of Age')\n",
    "plt.xlabel(\"Age\")\n",
    "plt.ylabel(\"Frequency\")\n",
    "plt.show()"
   ]
  },
  {
   "cell_type": "markdown",
   "id": "3b185582",
   "metadata": {},
   "source": [
    "### 10) A boxplot can also be used to show the distribution of values for each attribute."
   ]
  },
  {
   "cell_type": "code",
   "execution_count": 17,
   "id": "0d295b09",
   "metadata": {},
   "outputs": [
    {
     "data": {
      "text/plain": [
       "<AxesSubplot:>"
      ]
     },
     "execution_count": 17,
     "metadata": {},
     "output_type": "execute_result"
    },
    {
     "data": {
      "image/png": "[encoded data removed]",
      "text/plain": [
       "<Figure size 432x288 with 1 Axes>"
      ]
     },
     "metadata": {
      "needs_background": "light"
     },
     "output_type": "display_data"
    }
   ],
   "source": []
  },
  {
   "cell_type": "markdown",
   "id": "cfc2080e",
   "metadata": {},
   "source": [
    "### 11)  Display scatter plot for any 5 pair of attributes , we can use a scatter plot to visualize their joint distribution."
   ]
  },
  {
   "cell_type": "code",
   "execution_count": 21,
   "id": "5eac5bc0",
   "metadata": {},
   "outputs": [
    {
     "data": {
      "image/png": "[encoded data removed]",
      "text/plain": [
       "<Figure size 640x480 with 1 Axes>"
      ]
     },
     "metadata": {},
     "output_type": "display_data"
    },
    {
     "data": {
      "text/plain": [
       "<Figure size 1200x1500 with 0 Axes>"
      ]
     },
     "metadata": {},
     "output_type": "display_data"
    }
   ],
   "source": [
    "plt.scatter(titanic['Age'],titanic['Fare'],alpha=0.5)\n",
    "plt.xlabel(\"Age\")\n",
    "plt.ylabel(\"Fare\")\n",
    "plt.title(\"Age vs fare\")\n",
    "plt.figure(figsize=(12,15))\n",
    "plt.show()"
   ]
  },
  {
   "cell_type": "code",
   "execution_count": null,
   "id": "656b7d06",
   "metadata": {},
   "outputs": [],
   "source": []
  }
 ],
 "metadata": {
  "kernelspec": {
   "display_name": "Python 3 (ipykernel)",
   "language": "python",
   "name": "python3"
  },
  "language_info": {
   "codemirror_mode": {
    "name": "ipython",
    "version": 3
   },
   "file_extension": ".py",
   "mimetype": "text/x-python",
   "name": "python",
   "nbconvert_exporter": "python",
   "pygments_lexer": "ipython3",
   "version": "3.12.7"
  }
 },
 "nbformat": 4,
 "nbformat_minor": 5
}
